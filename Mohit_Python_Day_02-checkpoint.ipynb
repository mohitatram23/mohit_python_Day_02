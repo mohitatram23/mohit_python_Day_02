{
 "cells": [
  {
   "cell_type": "code",
   "execution_count": 4,
   "metadata": {
    "scrolled": true
   },
   "outputs": [
    {
     "name": "stdout",
     "output_type": "stream",
     "text": [
      "mohit\n"
     ]
    }
   ],
   "source": [
    "# Double quote\n",
    "firstname = \"mohit\"\n",
    "print(firstname)"
   ]
  },
  {
   "cell_type": "code",
   "execution_count": 5,
   "metadata": {},
   "outputs": [
    {
     "name": "stdout",
     "output_type": "stream",
     "text": [
      "atram\n"
     ]
    }
   ],
   "source": [
    "# Single quote\n",
    "lastname = 'atram'\n",
    "print(lastname)"
   ]
  },
  {
   "cell_type": "code",
   "execution_count": 6,
   "metadata": {},
   "outputs": [
    {
     "name": "stdout",
     "output_type": "stream",
     "text": [
      "Charlie\n"
     ]
    }
   ],
   "source": [
    "# Triple quote\n",
    "nickname = \"\"\"Charlie\"\"\"\n",
    "print(nickname)"
   ]
  },
  {
   "cell_type": "code",
   "execution_count": 7,
   "metadata": {},
   "outputs": [
    {
     "name": "stdout",
     "output_type": "stream",
     "text": [
      "Chandrakant\n"
     ]
    }
   ],
   "source": [
    "midname = '''Chandrakant'''\n",
    "print(midname)"
   ]
  },
  {
   "cell_type": "code",
   "execution_count": 21,
   "metadata": {},
   "outputs": [
    {
     "name": "stdout",
     "output_type": "stream",
     "text": [
      "Johny, Johny, yes, papa\n",
      "Eating sugar? No, papa\n",
      "Telling lies? No, papa\n",
      "Open your mouth, hahaha!\n",
      "Johny, Johny, yes, papa\n",
      "Eating sugar, no, papa\n",
      "Telling lies, no, papa\n",
      "Open your mouth, hahaha!\n"
     ]
    }
   ],
   "source": [
    "poem = \"\"\"Johny, Johny, yes, papa\n",
    "Eating sugar? No, papa\n",
    "Telling lies? No, papa\n",
    "Open your mouth, hahaha!\n",
    "Johny, Johny, yes, papa\n",
    "Eating sugar, no, papa\n",
    "Telling lies, no, papa\n",
    "Open your mouth, hahaha!\"\"\"\n",
    "print(poem)"
   ]
  },
  {
   "cell_type": "code",
   "execution_count": 12,
   "metadata": {},
   "outputs": [
    {
     "name": "stdout",
     "output_type": "stream",
     "text": [
      "Johny, Johny, yes, papa\n",
      "Eating sugar? No, papa\n",
      "Telling lies? No, papa\n",
      "Open your mouth, hahaha!\n",
      "Johny, Johny, yes, papa\n",
      "Eating sugar, no, papa\n",
      "Telling lies, no, papa\n",
      "Open your mouth, hahaha!\n"
     ]
    }
   ],
   "source": [
    "poem = '''Johny, Johny, yes, papa\n",
    "Eating sugar? No, papa\n",
    "Telling lies? No, papa\n",
    "Open your mouth, hahaha!\n",
    "Johny, Johny, yes, papa\n",
    "Eating sugar, no, papa\n",
    "Telling lies, no, papa\n",
    "Open your mouth, hahaha!'''\n",
    "print(poem)"
   ]
  },
  {
   "cell_type": "code",
   "execution_count": 13,
   "metadata": {},
   "outputs": [
    {
     "name": "stdout",
     "output_type": "stream",
     "text": [
      "\"Mohit\"\n"
     ]
    }
   ],
   "source": [
    "name = '\"Mohit\"'\n",
    "print(name)"
   ]
  },
  {
   "cell_type": "code",
   "execution_count": 18,
   "metadata": {},
   "outputs": [
    {
     "name": "stdout",
     "output_type": "stream",
     "text": [
      "'Chandrakant'\n"
     ]
    }
   ],
   "source": [
    "name = \"'Chandrakant'\"\n",
    "print(name)"
   ]
  },
  {
   "cell_type": "code",
   "execution_count": 19,
   "metadata": {},
   "outputs": [
    {
     "name": "stdout",
     "output_type": "stream",
     "text": [
      "'Atram'\n"
     ]
    }
   ],
   "source": [
    "name = \"\"\"'Atram'\"\"\"\n",
    "print(name)"
   ]
  },
  {
   "cell_type": "code",
   "execution_count": 20,
   "metadata": {},
   "outputs": [
    {
     "name": "stdout",
     "output_type": "stream",
     "text": [
      "\"Shaila\"\n"
     ]
    }
   ],
   "source": [
    "name = '''\"Shaila\"'''\n",
    "print(name)"
   ]
  }
 ],
 "metadata": {
  "kernelspec": {
   "display_name": "Python 3",
   "language": "python",
   "name": "python3"
  },
  "language_info": {
   "codemirror_mode": {
    "name": "ipython",
    "version": 3
   },
   "file_extension": ".py",
   "mimetype": "text/x-python",
   "name": "python",
   "nbconvert_exporter": "python",
   "pygments_lexer": "ipython3",
   "version": "3.7.6"
  }
 },
 "nbformat": 4,
 "nbformat_minor": 4
}
